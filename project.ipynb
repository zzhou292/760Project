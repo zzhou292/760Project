{
 "cells": [
  {
   "cell_type": "code",
   "execution_count": 76,
   "metadata": {},
   "outputs": [],
   "source": [
    "# importing module\n",
    "from pandas import *\n",
    "from statistics import mean"
   ]
  },
  {
   "cell_type": "code",
   "execution_count": 77,
   "metadata": {},
   "outputs": [],
   "source": [
    "# Data Reading\n",
    " \n",
    "# reading CSV file\n",
    "data = read_csv(\"data_input/OppScrData.csv\",keep_default_na=False,low_memory=False)\n",
    "\n",
    "# ======================= Clinic Data =====================================\n",
    "Clinic_Data = []\n",
    "Clinic_Data.append(data['Record ID'].tolist())                                          # Col A\n",
    "Clinic_Data.append(data['Visit ID'].tolist())                                           # Col B\n",
    "Clinic_Data.append(data['PT ID'].tolist())                                              # Col C\n",
    "Clinic_Data.append(data['Clinical F/U interval  [d from CT]'].tolist())                 # Col D\n",
    "Clinic_Data.append(data['BMI'].tolist())                                                # Col E\n",
    "Clinic_Data.append(data['BMI >30'].tolist())                                            # Col F\n",
    "Clinic_Data.append(data['Sex'].tolist())                                                # Col G\n",
    "Clinic_Data.append(data['Age at CT'].tolist())                                          # Col H\n",
    "Clinic_Data.append(data['Tobacco'].tolist())                                            # Col I\n",
    "Clinic_Data.append(data['Alcohol abuse'].tolist())                                      # Col J\n",
    "Clinic_Data.append(data['FRS 10-year risk (%)'].tolist())                               # Col K\n",
    "Clinic_Data.append(data['FRAX 10y Fx Prob (Orange-w/ DXA)'].tolist())                   # Col L\n",
    "Clinic_Data.append(data['FRAX 10y Hip Fx Prob (Orange-w/ DXA)'].tolist())               # Col M\n",
    "Clinic_Data.append(data['Met Sx'].tolist())                                             # Col N\n",
    "\n",
    "# ======================= Outcome Data =====================================\n",
    "Outcome_Data = []\n",
    "Outcome_Data.append(data['DEATH [d from CT]'].tolist())                                 # Col P\n",
    "Outcome_Data.append(data['CVD DX'].tolist())                                            # Col Q\n",
    "Outcome_Data.append(data['CVD DX Date [d from CT]'].tolist())                           # Col R\n",
    "Outcome_Data.append(data['Heart failure DX'].tolist())                                  # Col S\n",
    "Outcome_Data.append(data['Heart failure DX Date [d from CT]'].tolist())                 # Col T\n",
    "Outcome_Data.append(data['MI DX'].tolist())                                             # Col U\n",
    "Outcome_Data.append(data['MI DX Date [d from CT]'].tolist())                            # Col V\n",
    "Outcome_Data.append(data['Type 2 Diabetes DX'].tolist())                                # Col W\n",
    "Outcome_Data.append(data['Type 2 Diabetes DX Date [d from CT]'].tolist())               # Col X\n",
    "Outcome_Data.append(data['Femoral neck fracture DX'].tolist())                          # Col Y\n",
    "Outcome_Data.append(data['Femoral neck fracture DX Date [d from CT]'].tolist())         # Col Z\n",
    "Outcome_Data.append(data['Unspec femoral fracture DX'].tolist())                        # Col AA\n",
    "Outcome_Data.append(data['Unspec femoral fracture DX Date [d from CT]'].tolist())       # Col AB\n",
    "Outcome_Data.append(data['Forearm fracture DX'].tolist())                               # Col AC\n",
    "Outcome_Data.append(data['Forearm fracture DX Date [d from CT]'].tolist())              # Col AD\n",
    "Outcome_Data.append(data['Humerus fracture DX'].tolist())                               # Col AE\n",
    "Outcome_Data.append(data['Humerus fracture DX Date [d from CT]'].tolist())              # Col AF\n",
    "Outcome_Data.append(data['Pathologic fracture DX'].tolist())                            # Col AG\n",
    "Outcome_Data.append(data['Pathologic fracture DX Date [d from CT]'].tolist())           # Col AH\n",
    "Outcome_Data.append(data['Alzheimers DX'].tolist())                                     # Col AI\n",
    "Outcome_Data.append(data['Alzheimers DX Date [d from CT]'].tolist())                    # Col AJ\n",
    "\n",
    "# ======================= CT Data =====================================\n",
    "CT_Data = []\n",
    "CT_Data.append(data['L1_HU_BMD'].tolist())                                              # Col AP\n",
    "CT_Data.append(data['TAT Area (cm2)'].tolist())                                         # Col AQ\n",
    "CT_Data.append(data['Total Body                Area EA (cm2)'].tolist())                # Col AR\n",
    "CT_Data.append(data['VAT Area (cm2)'].tolist())                                         # Col AS\n",
    "CT_Data.append(data['SAT Area (cm2)'].tolist())                                         # Col AT\n",
    "CT_Data.append(data['VAT/SAT     Ratio'].tolist())                                      # Col AU\n",
    "CT_Data.append(data['Muscle HU'].tolist())                                              # Col AV\n",
    "CT_Data.append(data[' Muscle Area (cm2)'].tolist())                                     # Col AW\n",
    "CT_Data.append(data['L3 SMI (cm2/m2)'].tolist())                                        # Col AX\n",
    "CT_Data.append(data['AoCa        Agatston'].tolist())                                   # Col AY\n",
    "CT_Data.append(data['Liver HU    (Median)'].tolist())                                   # Col AZ"
   ]
  },
  {
   "cell_type": "code",
   "execution_count": 78,
   "metadata": {},
   "outputs": [],
   "source": [
    "# Data Preprocessing\n",
    "# ======================= Clinic Data =====================================\n",
    "# BMI - If BMI is unknown, we assign an average BMI value\n",
    "average_BMI = mean([float(l) for l in Clinic_Data[4] if l!=''])\n",
    "for i in range(len(Clinic_Data[4])):\n",
    "    if Clinic_Data[4][i] == '':\n",
    "        Clinic_Data[4][i] = average_BMI\n",
    "\n",
    "# BMI >30 - 0 for N, 1 for Y\n",
    "for i in range(len(Clinic_Data[5])):\n",
    "    if Clinic_Data[5][i] == 'N':\n",
    "        Clinic_Data[5][i] = 0\n",
    "    elif Clinic_Data[5][i] == 'Y':\n",
    "        Clinic_Data[5][i] = 1\n",
    "    else:\n",
    "        if float(Clinic_Data[4][i]) > 30:\n",
    "            Clinic_Data[5][i] = 1\n",
    "        else:\n",
    "            Clinic_Data[5][i] = 0\n",
    "\n",
    "\n",
    "# Sex - 0 for female, 1 for male\n",
    "for i in range(len(Clinic_Data[6])):\n",
    "    if Clinic_Data[6][i] == 'Female':\n",
    "        Clinic_Data[6][i] = 0\n",
    "    elif Clinic_Data[6][i] == 'Male':\n",
    "        Clinic_Data[6][i] = 1\n"
   ]
  },
  {
   "cell_type": "code",
   "execution_count": null,
   "metadata": {},
   "outputs": [],
   "source": []
  }
 ],
 "metadata": {
  "interpreter": {
   "hash": "e7370f93d1d0cde622a1f8e1c04877d8463912d04d973331ad4851f04de6915a"
  },
  "kernelspec": {
   "display_name": "Python 3.10.4 64-bit",
   "language": "python",
   "name": "python3"
  },
  "language_info": {
   "codemirror_mode": {
    "name": "ipython",
    "version": 3
   },
   "file_extension": ".py",
   "mimetype": "text/x-python",
   "name": "python",
   "nbconvert_exporter": "python",
   "pygments_lexer": "ipython3",
   "version": "3.10.4"
  },
  "orig_nbformat": 4
 },
 "nbformat": 4,
 "nbformat_minor": 2
}
