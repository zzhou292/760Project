{
 "cells": [
  {
   "cell_type": "markdown",
   "id": "4733a4ee",
   "metadata": {},
   "source": [
    "# Use random forest to predict death day with 10 fold cv"
   ]
  },
  {
   "cell_type": "code",
   "execution_count": 1,
   "id": "d8a31f39",
   "metadata": {},
   "outputs": [
    {
     "name": "stdout",
     "output_type": "stream",
     "text": [
      "rmse of random forest ct data only 1317.3310331925513\n",
      "rmse of random forest with ct and clinic 1248.4020264251749\n"
     ]
    }
   ],
   "source": [
    "from helper760_part2 import read_inputs\n",
    "import numpy as np\n",
    "import matplotlib.pyplot as plt\n",
    "import csv\n",
    "from sklearn.preprocessing import StandardScaler \n",
    "from sklearn.preprocessing import StandardScaler \n",
    "from sklearn.metrics import mean_squared_error\n",
    "from sklearn.metrics import mean_absolute_error\n",
    "from sklearn.ensemble import RandomForestRegressor\n",
    "from sklearn import metrics\n",
    "from sklearn.model_selection import cross_val_score\n",
    "\n",
    "Clininc_Data,Outcome_Data,CT_Data = read_inputs()\n",
    "\n",
    "ct = np.array(CT_Data)\n",
    "ct = ct.T\n",
    "ct = ct.astype(float)\n",
    "\n",
    "clinic = np.array(Clininc_Data)\n",
    "clinic = clinic.T\n",
    "clinic = clinic.astype(float)\n",
    "clinic = clinic[:,4:-1] #can not use first 3 cols with id infos and last col with mate syndrom\n",
    "\n",
    "outcome = np.array(Outcome_Data)\n",
    "outcome = outcome.T\n",
    "outcome = outcome.astype(float)\n",
    "deathday = outcome[:,0]\n",
    "deathday = deathday.astype(int)\n",
    "\n",
    "known_ind = deathday != 0\n",
    "known_death = deathday[known_ind]\n",
    "known_ct = ct[known_ind]\n",
    "unknown_ind = deathday == 0\n",
    "unknown_death = deathday[unknown_ind]\n",
    "unknown_ct = ct[unknown_ind]\n",
    "known_clinic = clinic[known_ind]\n",
    "known_clinic_ct = np.hstack((known_ct,known_clinic))\n",
    "\n",
    "\n",
    "\n",
    "#Random forest 10 fold use CT data only\n",
    "standardScalar = StandardScaler() \n",
    "standardScalar.fit(known_ct)\n",
    "known_ct_std = standardScalar.transform(known_ct)\n",
    "reg = RandomForestRegressor(max_depth=10, random_state=0)\n",
    "scores = cross_val_score(reg, known_ct_std, known_death , cv=10, scoring='neg_mean_squared_error')\n",
    "print(\"rmse of random forest ct data only\",np.mean(np.sqrt(np.abs(scores))))\n",
    "\n",
    "#Random forest 10 fold use CT data and clinic data \n",
    "ctClinic = known_clinic_ct\n",
    "standardScalar = StandardScaler() \n",
    "standardScalar.fit(ctClinic)\n",
    "ctClinic_std = standardScalar.transform(ctClinic)\n",
    "reg = RandomForestRegressor(max_depth=10, random_state=0)\n",
    "scores = cross_val_score(reg, ctClinic_std, known_death , cv=10, scoring='neg_mean_squared_error')\n",
    "print(\"rmse of random forest with ct and clinic\",np.mean(np.sqrt(np.abs(scores))))\n"
   ]
  }
 ],
 "metadata": {
  "kernelspec": {
   "display_name": "Python 3 (ipykernel)",
   "language": "python",
   "name": "python3"
  },
  "language_info": {
   "codemirror_mode": {
    "name": "ipython",
    "version": 3
   },
   "file_extension": ".py",
   "mimetype": "text/x-python",
   "name": "python",
   "nbconvert_exporter": "python",
   "pygments_lexer": "ipython3",
   "version": "3.9.7"
  }
 },
 "nbformat": 4,
 "nbformat_minor": 5
}
