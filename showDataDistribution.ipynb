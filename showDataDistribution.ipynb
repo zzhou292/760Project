{
 "cells": [
  {
   "cell_type": "code",
   "execution_count": 20,
   "id": "5c3d8c08",
   "metadata": {},
   "outputs": [
    {
     "name": "stdout",
     "output_type": "stream",
     "text": [
      "(9223,)\n"
     ]
    },
    {
     "data": {
      "text/plain": [
       "(array([1402., 1212., 1709., 1461., 1242., 1233.,  575.,  224.,  120.,\n",
       "          45.]),\n",
       " array([  0. ,  27.1,  54.2,  81.3, 108.4, 135.5, 162.6, 189.7, 216.8,\n",
       "        243.9, 271. ]),\n",
       " <BarContainer object of 10 artists>)"
      ]
     },
     "execution_count": 20,
     "metadata": {},
     "output_type": "execute_result"
    },
    {
     "data": {
      "image/png": "[encoded data removed]",
      "text/plain": [
       "<Figure size 432x288 with 1 Axes>"
      ]
     },
     "metadata": {
      "needs_background": "light"
     },
     "output_type": "display_data"
    }
   ],
   "source": [
    "# importing module\n",
    "from pandas import *\n",
    "from statistics import mean\n",
    "import numpy as np\n",
    "import matplotlib.pyplot as plt\n",
    "from helper760_part2 import read_inputs\n",
    "# Let's read all data and preprocess them\n",
    "Clininc_Data,Outcome_Data,CT_Data = read_inputs()\n",
    "\n",
    "X = np.array(CT_Data)\n",
    "X = X.T\n",
    "print(np.shape(X[:,0]))\n",
    "plt.hist(X[:,0])"
   ]
  },
  {
   "cell_type": "code",
   "execution_count": null,
   "id": "73562197",
   "metadata": {},
   "outputs": [],
   "source": []
  }
 ],
 "metadata": {
  "kernelspec": {
   "display_name": "Python 3 (ipykernel)",
   "language": "python",
   "name": "python3"
  },
  "language_info": {
   "codemirror_mode": {
    "name": "ipython",
    "version": 3
   },
   "file_extension": ".py",
   "mimetype": "text/x-python",
   "name": "python",
   "nbconvert_exporter": "python",
   "pygments_lexer": "ipython3",
   "version": "3.9.7"
  }
 },
 "nbformat": 4,
 "nbformat_minor": 5
}
