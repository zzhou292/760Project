{
 "cells": [
  {
   "cell_type": "code",
   "execution_count": 2,
   "id": "b13c3ab6",
   "metadata": {},
   "outputs": [
    {
     "name": "stdout",
     "output_type": "stream",
     "text": [
      "rmse 405.9853379387751\n",
      "rscore 0.629739753490305\n",
      "rmse 393.06552365136827\n",
      "rscore 0.652930625672898\n",
      "rmse 401.8867104579166\n",
      "rscore 0.6371779460460438\n"
     ]
    },
    {
     "data": {
      "image/png": "[encoded data removed]",
      "text/plain": [
       "<Figure size 432x288 with 1 Axes>"
      ]
     },
     "metadata": {
      "needs_background": "light"
     },
     "output_type": "display_data"
    }
   ],
   "source": [
    "import matplotlib.pyplot as plt\n",
    "import numpy as np\n",
    "from sklearn.model_selection import train_test_split\n",
    "from sklearn.preprocessing import StandardScaler \n",
    "from sklearn.linear_model import LinearRegression\n",
    "from sklearn.metrics import mean_squared_error\n",
    "from sklearn.ensemble import RandomForestRegressor\n",
    "from sklearn.metrics import r2_score\n",
    "from sklearn.neighbors import KNeighborsRegressor\n",
    "import csv \n",
    "\n",
    "db = [] # retrive data\n",
    "with open(\"gainOutCome.csv\",\"r\") as f:\n",
    "    reader = csv.reader(f)\n",
    "    db = [row for row in reader]\n",
    "\n",
    "db = np.array(db)\n",
    "deathday = db[:,0].astype(np.float64)\n",
    "CT = db[:,1:].astype(np.float64)\n",
    "deathday = deathday.astype(int)  \n",
    "plt.hist(deathday)\n",
    "\n",
    "X_train, X_test, y_train, y_test = train_test_split(CT, deathday, test_size=0.2, random_state=666)\n",
    "standardScalar = StandardScaler() \n",
    "standardScalar.fit(X_train)\n",
    "X_train_std = standardScalar.transform(X_train)\n",
    "X_test_std = standardScalar.transform(X_test)\n",
    "\n",
    "reg = LinearRegression().fit(X_train_std, y_train)\n",
    "y_predicted = reg.predict(X_test_std)\n",
    "rms = np.sqrt(mean_squared_error(y_test, y_predicted))\n",
    "rScore = r2_score(y_test, y_predicted)\n",
    "print(\"rmse\",rms)\n",
    "print(\"rscore\",rScore)\n",
    "\n",
    "regr = RandomForestRegressor(max_depth=10, random_state=0)\n",
    "regr.fit(X_train_std, y_train)\n",
    "y_predicted = regr.predict(X_test_std)\n",
    "rms = np.sqrt(mean_squared_error(y_test, y_predicted))\n",
    "rScore = r2_score(y_test, y_predicted)\n",
    "print(\"rmse\",rms)\n",
    "print(\"rscore\",rScore)\n",
    "\n",
    "\n",
    "reg =  KNeighborsRegressor(n_neighbors=17)\n",
    "reg.fit(X_train_std, y_train)\n",
    "y_predicted = reg.predict(X_test_std)\n",
    "rms = np.sqrt(mean_squared_error(y_test, y_predicted))\n",
    "rScore = r2_score(y_test, y_predicted)\n",
    "print(\"rmse\",rms)\n",
    "print(\"rscore\",rScore)"
   ]
  },
  {
   "cell_type": "code",
   "execution_count": null,
   "id": "6a426ea8",
   "metadata": {},
   "outputs": [],
   "source": []
  }
 ],
 "metadata": {
  "kernelspec": {
   "display_name": "Python 3 (ipykernel)",
   "language": "python",
   "name": "python3"
  },
  "language_info": {
   "codemirror_mode": {
    "name": "ipython",
    "version": 3
   },
   "file_extension": ".py",
   "mimetype": "text/x-python",
   "name": "python",
   "nbconvert_exporter": "python",
   "pygments_lexer": "ipython3",
   "version": "3.9.7"
  }
 },
 "nbformat": 4,
 "nbformat_minor": 5
}
