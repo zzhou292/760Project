{
 "cells": [
  {
   "cell_type": "code",
   "execution_count": 15,
   "id": "5c3d8c08",
   "metadata": {},
   "outputs": [
    {
     "name": "stdout",
     "output_type": "stream",
     "text": [
      "74\n",
      "(9223, 11)\n",
      "(9223,)\n",
      "8674\n",
      "(9223, 12)\n",
      "[[ 967.   135.     nan ...   58.7 5473.6   35. ]\n",
      " [ 359.   192.   485.5 ...   48.4 2709.1   52. ]\n",
      " [   nan  256.   490.1 ...   50.1    0.    54. ]\n",
      " ...\n",
      " [   nan  135.   822.3 ...   57.8 1116.    45. ]\n",
      " [   nan  219.   418.2 ...   50.9 3515.4   44. ]\n",
      " [   nan  151.    61.5 ...   29.7 3015.1   54. ]]\n"
     ]
    },
    {
     "name": "stderr",
     "output_type": "stream",
     "text": [
      "100%|███████████████████████████████████████████████████████████████████████████| 10000/10000 [00:27<00:00, 361.18it/s]\n"
     ]
    }
   ],
   "source": [
    "# importing module\n",
    "from pandas import *\n",
    "from statistics import mean\n",
    "import numpy as np\n",
    "import matplotlib.pyplot as plt\n",
    "from helper760_part3 import read_inputs\n",
    "from gain import gain\n",
    "# Let's read all data and preprocess them\n",
    "Clininc_Data,Outcome_Data,CT_Data = read_inputs()\n",
    "#X contains CT_Data\n",
    "X = np.array(CT_Data)\n",
    "X = X.T\n",
    "X = X.astype(float)\n",
    "print(np.count_nonzero(np.isnan(X[:,10])))\n",
    "print(np.shape(X))\n",
    "#O contains outcomes\n",
    "O = np.array(Outcome_Data)\n",
    "O = O.T\n",
    "O = O.astype(float)\n",
    "#D contains death day\n",
    "D = O[:,0]\n",
    "print(np.shape(D))\n",
    "print(np.count_nonzero(np.isnan(D)))\n",
    "# combine deathday column with CT data to perform gain imputation\n",
    "I = np.column_stack((D,X))# first column is death day, the rest colmuns are CT_DATA cols\n",
    "print(np.shape(I))\n",
    "print(I)\n",
    "#use gain\n",
    "gain_para = {\"batch_size\": 128, \n",
    "                \"hint_rate\":0.9,\n",
    "               \"alpha\":100,\n",
    "            \"iterations\":10000}\n",
    "updatedI = gain(I,gain_para)\n",
    "np.savetxt(\"gainOutCome.csv\", updatedI, fmt='%.2f',delimiter=\",\")"
   ]
  },
  {
   "cell_type": "code",
   "execution_count": 17,
   "id": "73562197",
   "metadata": {},
   "outputs": [
    {
     "name": "stdout",
     "output_type": "stream",
     "text": [
      "0\n"
     ]
    },
    {
     "data": {
      "text/plain": [
       "(array([  67.,   99.,  229.,  658., 1616., 3710., 2539.,  233.,   50.,\n",
       "          22.]),\n",
       " array([   9. ,  515.1, 1021.2, 1527.3, 2033.4, 2539.5, 3045.6, 3551.7,\n",
       "        4057.8, 4563.9, 5070. ]),\n",
       " <BarContainer object of 10 artists>)"
      ]
     },
     "execution_count": 17,
     "metadata": {},
     "output_type": "execute_result"
    },
    {
     "data": {
      "image/png": "[encoded data removed]",
      "text/plain": [
       "<Figure size 432x288 with 1 Axes>"
      ]
     },
     "metadata": {
      "needs_background": "light"
     },
     "output_type": "display_data"
    }
   ],
   "source": [
    "import matplotlib.pyplot as plt\n",
    "print(np.count_nonzero(np.isnan(updatedI)))\n",
    "deathday = updatedI[:,0].astype(int)\n",
    "plt.hist(deathday)# hist of death day"
   ]
  },
  {
   "cell_type": "code",
   "execution_count": null,
   "id": "9ed3fe89",
   "metadata": {},
   "outputs": [],
   "source": []
  }
 ],
 "metadata": {
  "kernelspec": {
   "display_name": "Python 3 (ipykernel)",
   "language": "python",
   "name": "python3"
  },
  "language_info": {
   "codemirror_mode": {
    "name": "ipython",
    "version": 3
   },
   "file_extension": ".py",
   "mimetype": "text/x-python",
   "name": "python",
   "nbconvert_exporter": "python",
   "pygments_lexer": "ipython3",
   "version": "3.9.7"
  }
 },
 "nbformat": 4,
 "nbformat_minor": 5
}
